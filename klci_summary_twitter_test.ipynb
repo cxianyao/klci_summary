{
  "nbformat": 4,
  "nbformat_minor": 0,
  "metadata": {
    "colab": {
      "provenance": [],
      "authorship_tag": "ABX9TyNjj10/OWnTpRsJ3CFoMrMo",
      "include_colab_link": true
    },
    "kernelspec": {
      "name": "python3",
      "display_name": "Python 3"
    },
    "language_info": {
      "name": "python"
    }
  },
  "cells": [
    {
      "cell_type": "markdown",
      "metadata": {
        "id": "view-in-github",
        "colab_type": "text"
      },
      "source": [
        "<a href=\"https://colab.research.google.com/github/cxianyao/klci_summary/blob/main/klci_summary_twitter_test.ipynb\" target=\"_parent\"><img src=\"https://colab.research.google.com/assets/colab-badge.svg\" alt=\"Open In Colab\"/></a>"
      ]
    },
    {
      "cell_type": "code",
      "source": [
        "import requests\n",
        "from bs4 import BeautifulSoup\n",
        "\n",
        "URL = \"https://www.malaysiastock.biz/Market-Gauge-New.aspx\"\n",
        "page = requests.get(URL)\n",
        "\n",
        "soup = BeautifulSoup(page.content, 'html5lib')"
      ],
      "metadata": {
        "id": "U1Tv0ViPHpr3"
      },
      "execution_count": 196,
      "outputs": []
    },
    {
      "cell_type": "code",
      "source": [
        "gainer = int(soup.find(id=\"lbIndice_GainerNo\").text)\n",
        "loser = int(soup.find(id=\"lbIndice_LosersNo\").text)"
      ],
      "metadata": {
        "id": "tmwMQQW3u_La"
      },
      "execution_count": 197,
      "outputs": []
    },
    {
      "cell_type": "code",
      "source": [
        "#Extract from second url"
      ],
      "metadata": {
        "id": "qY5Sqistut2w"
      },
      "execution_count": 198,
      "outputs": []
    },
    {
      "cell_type": "code",
      "source": [
        "URL2 = \"https://www.malaysiastock.biz/Market-Watch.aspx\"\n",
        "page2 = requests.get(URL2)\n",
        "\n",
        "soup2 = BeautifulSoup(page2.content, 'html5lib')"
      ],
      "metadata": {
        "id": "Bo5IPKd-qCgz"
      },
      "execution_count": 199,
      "outputs": []
    },
    {
      "cell_type": "code",
      "source": [
        "volume = soup2.find(id=\"MainContent2_UC_KLCI_lbQouteVol\").text\n",
        "value = soup2.find(id=\"MainContent2_UC_KLCI_lbTradeValue\").text\n",
        "date = soup2.find(style=\"float:right;color:#777;\").text[13:]"
      ],
      "metadata": {
        "id": "9guj3_OHvy4p"
      },
      "execution_count": 200,
      "outputs": []
    },
    {
      "cell_type": "code",
      "source": [
        "#Extract date information"
      ],
      "metadata": {
        "id": "6nzuPibizl8v"
      },
      "execution_count": 201,
      "outputs": []
    },
    {
      "cell_type": "code",
      "source": [
        "from datetime import datetime\n",
        "datetime_object = datetime.strptime(date, '%d %b %Y')\n",
        "formatted_date = datetime_object.strftime('%d/%m/%Y')"
      ],
      "metadata": {
        "id": "C5YgVvy72JHk"
      },
      "execution_count": 202,
      "outputs": []
    },
    {
      "cell_type": "code",
      "source": [
        "datetime_object = datetime.strptime(formatted_date, '%d/%m/%Y')\n",
        "weekday = datetime_object.strftime('%A')"
      ],
      "metadata": {
        "id": "UVtRKbaq3rf9"
      },
      "execution_count": 203,
      "outputs": []
    },
    {
      "cell_type": "code",
      "source": [
        "  klci_summary = {\n",
        "        'Date': formatted_date,\n",
        "        'Day': weekday,\n",
        "        'Gainers': gainer,\n",
        "        'Losers': loser,\n",
        "        'Value': value,\n",
        "        'Volume': volume,\n",
        "    }"
      ],
      "metadata": {
        "id": "H8QnKLGz4hIC"
      },
      "execution_count": 204,
      "outputs": []
    },
    {
      "cell_type": "code",
      "source": [
        "import pandas as pd\n",
        "import os\n",
        "\n",
        "# Existing Excel file path\n",
        "file_path = 'haha.xlsx'\n",
        "\n",
        "if not os.path.isfile(file_path):\n",
        "\n",
        "  df = pd.DataFrame([klci_summary])\n",
        "\n",
        "  # Save the DataFrame to an Excel file\n",
        "  df.to_excel('haha.xlsx', index=False)\n",
        "\n",
        "  print(\"Excel file created.\")\n",
        "\n",
        "else:\n",
        "\n",
        "  # Load the existing Excel file into a DataFrame\n",
        "  df_existing = pd.read_excel(file_path)\n",
        "\n",
        "  # Create a DataFrame from the new row data\n",
        "  df_new_row = pd.DataFrame([klci_summary], columns=df_existing.columns)\n",
        "\n",
        "  # Concatenate the existing DataFrame with the new row DataFrame\n",
        "  df_updated = pd.concat([df_existing, df_new_row], ignore_index=True)\n",
        "\n",
        "  # Save the updated DataFrame to the Excel file\n",
        "  df_updated.to_excel(file_path, index=False)\n",
        "\n",
        "  print(\"Excel file updated successfully.\")"
      ],
      "metadata": {
        "colab": {
          "base_uri": "https://localhost:8080/"
        },
        "id": "J18PD7cj6SdC",
        "outputId": "38fe1c3f-cc63-408d-f3e0-1005d99965f9"
      },
      "execution_count": 207,
      "outputs": [
        {
          "output_type": "stream",
          "name": "stdout",
          "text": [
            "Excel file updated successfully.\n"
          ]
        }
      ]
    }
  ]
}